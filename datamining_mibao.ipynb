{
 "cells": [
  {
   "cell_type": "markdown",
   "metadata": {
    "_cell_guid": "ea25cdf7-bdbc-3cf1-0737-bc51675e3374",
    "_uuid": "fed5696c67bf55a553d6d04313a77e8c617cad99"
   },
   "source": [
    "# 蜜宝大数据风控解决方案\n",
    "\n",
    "---\n",
    "\n",
    "## 会议主题：\n",
    "1. 审核大数据风控可行性。\n",
    "2. 工作计划。\n",
    "\n",
    "\n",
    "## 数据挖掘工作流程\n",
    "\n",
    "目前大数据风控做的第一件事是数据挖掘工作，数据挖掘的工作流程分下面七步完成：\n",
    "\n",
    "1. 目标或问题定义。\n",
    "2. 获取数据。\n",
    "3. 数据分析。\n",
    "4. 数据清洗、特征处理。\n",
    "5. 机器学习训练、预测。\n",
    "6. 结果评估和报告。\n",
    "7. 总结。\n",
    "\n",
    "\n",
    "## 目标或问题定义\n",
    "\n",
    "当我们面对客户提交的租赁设备订单请求时，我们有2个核心问题需要解决，一个是这个客户信用如何，是不是来欺诈的；另一个是这个客户是信用良好客户，但我们不确定这个设备的价格是否超出他所能承受的范围。因此，我们的任务目标是两个：\n",
    "1. 客户分类。把客户分成审核通过和审核拒绝两类。\n",
    "2. 确定客户信用额度。\n",
    "接下来的数据挖掘工作是实现客户分类的。"
   ]
  },
  {
   "cell_type": "markdown",
   "metadata": {},
   "source": [
    "## 开始数据挖掘工作\n",
    "先做些代码初始化"
   ]
  },
  {
   "cell_type": "code",
   "execution_count": 1,
   "metadata": {
    "_cell_guid": "5767a33c-8f18-4034-e52d-bf7a8f7d8ab8",
    "_uuid": "847a9b3972a6be2d2f3346ff01fea976d92ecdb6"
   },
   "outputs": [
    {
     "data": {
      "text/plain": [
       "131072"
      ]
     },
     "execution_count": 1,
     "metadata": {},
     "output_type": "execute_result"
    }
   ],
   "source": [
    "\n",
    "import csv\n",
    "import json\n",
    "import seaborn as sns\n",
    "import pandas as pd\n",
    "import numpy as np\n",
    "import matplotlib.pyplot as plt\n",
    "from matplotlib.colors import ListedColormap\n",
    "import time\n",
    "import os\n",
    "from sklearn.preprocessing import LabelEncoder\n",
    "from xgboost import XGBClassifier\n",
    "\n",
    "\n",
    "def missing_values_table(df):\n",
    "    # Total missing values\n",
    "    mis_val = df.isnull().sum()\n",
    "\n",
    "    # Percentage of missing values\n",
    "    mis_val_percent = 100 * df.isnull().sum() / len(df)\n",
    "\n",
    "    # Make a table with the results\n",
    "    mis_val_table = pd.concat([mis_val, mis_val_percent], axis=1)\n",
    "\n",
    "    # Rename the columns\n",
    "    mis_val_table_ren_columns = mis_val_table.rename(\n",
    "        columns={0: 'Missing Values', 1: '% of Total Values'})\n",
    "\n",
    "    # Sort the table by percentage of missing descending\n",
    "    mis_val_table_ren_columns = mis_val_table_ren_columns[\n",
    "        mis_val_table_ren_columns.iloc[:, 1] != 0].sort_values(\n",
    "        '% of Total Values', ascending=False).round(1)\n",
    "\n",
    "    # Print some summary information\n",
    "    print(\"Your selected dataframe has \" + str(df.shape[1]) + \" columns.\\n\"\n",
    "                                                              \"There are \" + str(mis_val_table_ren_columns.shape[0]) +\n",
    "          \" columns that have missing values.\")\n",
    "\n",
    "    # Return the dataframe with missing information\n",
    "    return mis_val_table_ren_columns\n",
    "\n",
    "\n",
    "\n",
    "# 特征分析\n",
    "def feature_analyse(df, col, bins=10):\n",
    "    if df[col].dtype != 'O':\n",
    "        col_band = col + '_band'\n",
    "        df[col_band] = pd.cut(df[col], bins).astype(str)\n",
    "        col_ana = col_band\n",
    "    else:\n",
    "        col_ana = col\n",
    "\n",
    "    print(df[col_ana].describe())\n",
    "    print(\"-------------------------------------------\")\n",
    "    pass_df = pd.DataFrame({'pass': df[df['check_result'] == 1][col_ana].value_counts()})\n",
    "    reject_df = pd.DataFrame({'reject': df[df['check_result'] == 0][col_ana].value_counts()})\n",
    "    all_df = pd.DataFrame({'all': df[col_ana].value_counts()})\n",
    "    analyse_df = all_df.merge(pass_df, how='outer', left_index=True, right_index=True)\n",
    "    analyse_df = analyse_df.merge(reject_df, how='outer', left_index=True, right_index=True)\n",
    "    analyse_df['pass_rate'] = analyse_df['pass'] / analyse_df['all']\n",
    "    analyse_df.sort_values(by='pass_rate', inplace=True, ascending=False)\n",
    "    print(analyse_df)\n",
    "    plt.plot(analyse_df['pass_rate'], 'bo')\n",
    "    plt.ylabel('Pass Rate')\n",
    "\n",
    "    \n",
    "# Suppress warnings \n",
    "import warnings\n",
    "warnings.filterwarnings('ignore')    \n",
    "# to make output display better\n",
    "pd.set_option('display.max_columns', 10)\n",
    "pd.set_option('display.max_rows', 1000)\n",
    "pd.set_option('display.width', 2000)\n",
    "plt.rcParams['axes.labelsize'] = 14\n",
    "plt.rcParams['xtick.labelsize'] = 12\n",
    "plt.rcParams['ytick.labelsize'] = 12\n",
    "plt.rcParams['font.sans-serif'] = ['Simhei']  # 用来正常显示中文标签\n",
    "plt.rcParams['axes.unicode_minus'] = False  # 用来正常显示负号\n",
    "# read large csv file\n",
    "csv.field_size_limit(100000000)"
   ]
  },
  {
   "cell_type": "markdown",
   "metadata": {
    "_cell_guid": "6b5dc743-15b1-aac6-405e-081def6ecca1",
    "_uuid": "2d307b99ee3d19da3c1cddf509ed179c21dec94a"
   },
   "source": [
    "## 获取数据\n",
    "\n",
    "数据已经从数据库中导出成csv文件，直接读取即可。后面数据的读取更改为从备份数据库直接读取，不仅可以保证数据的完整，还可以避免重名字段处理的麻烦。"
   ]
  },
  {
   "cell_type": "code",
   "execution_count": 2,
   "metadata": {
    "_cell_guid": "e7319668-86fe-8adc-438d-0eef3fd0a982",
    "_uuid": "13f38775c12ad6f914254a08f0d1ef948a2bd453"
   },
   "outputs": [
    {
     "name": "stdout",
     "output_type": "stream",
     "text": [
      "初始数据量: (86988, 209)\n"
     ]
    }
   ],
   "source": [
    "# Datasets info\n",
    "PROJECT_ROOT_DIR = os.getcwd()\n",
    "DATA_ID = \"学校数据.csv\"\n",
    "DATASETS_PATH = os.path.join(PROJECT_ROOT_DIR, \"datasets\", DATA_ID)\n",
    "df_alldata = pd.read_csv(DATASETS_PATH, encoding='utf-8', engine='python')\n",
    "print(\"初始数据量: {}\".format(df_alldata.shape))"
   ]
  },
  {
   "cell_type": "markdown",
   "metadata": {
    "_cell_guid": "3d6188f3-dc82-8ae6-dabd-83e28fcbf10d",
    "_uuid": "79282222056237a52bbbb1dbd831f057f1c23d69"
   },
   "source": [
    "## 数据简单计量分析\n"
   ]
  },
  {
   "cell_type": "code",
   "execution_count": 3,
   "metadata": {
    "scrolled": true
   },
   "outputs": [
    {
     "data": {
      "text/html": [
       "<div>\n",
       "<style scoped>\n",
       "    .dataframe tbody tr th:only-of-type {\n",
       "        vertical-align: middle;\n",
       "    }\n",
       "\n",
       "    .dataframe tbody tr th {\n",
       "        vertical-align: top;\n",
       "    }\n",
       "\n",
       "    .dataframe thead th {\n",
       "        text-align: right;\n",
       "    }\n",
       "</style>\n",
       "<table border=\"1\" class=\"dataframe\">\n",
       "  <thead>\n",
       "    <tr style=\"text-align: right;\">\n",
       "      <th></th>\n",
       "      <th>id</th>\n",
       "      <th>create_time</th>\n",
       "      <th>deleted</th>\n",
       "      <th>update_time</th>\n",
       "      <th>check_time</th>\n",
       "      <th>...</th>\n",
       "      <th>order_number.4</th>\n",
       "      <th>max_lease</th>\n",
       "      <th>min_lease</th>\n",
       "      <th>renew_rents</th>\n",
       "      <th>rent_group</th>\n",
       "    </tr>\n",
       "  </thead>\n",
       "  <tbody>\n",
       "    <tr>\n",
       "      <th>0</th>\n",
       "      <td>131</td>\n",
       "      <td>2/11/2017 17:44:55</td>\n",
       "      <td>0</td>\n",
       "      <td>2/11/2017 18:34:33</td>\n",
       "      <td>NaN</td>\n",
       "      <td>...</td>\n",
       "      <td>NaN</td>\n",
       "      <td>NaN</td>\n",
       "      <td>NaN</td>\n",
       "      <td>NaN</td>\n",
       "      <td>NaN</td>\n",
       "    </tr>\n",
       "    <tr>\n",
       "      <th>1</th>\n",
       "      <td>132</td>\n",
       "      <td>2/11/2017 18:08:32</td>\n",
       "      <td>0</td>\n",
       "      <td>2/11/2017 18:34:00</td>\n",
       "      <td>NaN</td>\n",
       "      <td>...</td>\n",
       "      <td>NaN</td>\n",
       "      <td>NaN</td>\n",
       "      <td>NaN</td>\n",
       "      <td>NaN</td>\n",
       "      <td>NaN</td>\n",
       "    </tr>\n",
       "    <tr>\n",
       "      <th>2</th>\n",
       "      <td>133</td>\n",
       "      <td>2/11/2017 18:15:12</td>\n",
       "      <td>0</td>\n",
       "      <td>28/11/2017 09:43:09</td>\n",
       "      <td>NaN</td>\n",
       "      <td>...</td>\n",
       "      <td>NaN</td>\n",
       "      <td>NaN</td>\n",
       "      <td>NaN</td>\n",
       "      <td>NaN</td>\n",
       "      <td>NaN</td>\n",
       "    </tr>\n",
       "    <tr>\n",
       "      <th>3</th>\n",
       "      <td>134</td>\n",
       "      <td>2/11/2017 22:10:20</td>\n",
       "      <td>0</td>\n",
       "      <td>28/11/2017 09:40:44</td>\n",
       "      <td>NaN</td>\n",
       "      <td>...</td>\n",
       "      <td>NaN</td>\n",
       "      <td>NaN</td>\n",
       "      <td>NaN</td>\n",
       "      <td>NaN</td>\n",
       "      <td>NaN</td>\n",
       "    </tr>\n",
       "    <tr>\n",
       "      <th>4</th>\n",
       "      <td>135</td>\n",
       "      <td>2/11/2017 22:53:54</td>\n",
       "      <td>0</td>\n",
       "      <td>15/11/2017 10:38:45</td>\n",
       "      <td>NaN</td>\n",
       "      <td>...</td>\n",
       "      <td>NaN</td>\n",
       "      <td>NaN</td>\n",
       "      <td>NaN</td>\n",
       "      <td>NaN</td>\n",
       "      <td>NaN</td>\n",
       "    </tr>\n",
       "  </tbody>\n",
       "</table>\n",
       "<p>5 rows × 209 columns</p>\n",
       "</div>"
      ],
      "text/plain": [
       "    id         create_time  deleted          update_time check_time    ...     order_number.4 max_lease min_lease renew_rents rent_group\n",
       "0  131  2/11/2017 17:44:55        0   2/11/2017 18:34:33        NaN    ...                NaN       NaN       NaN         NaN        NaN\n",
       "1  132  2/11/2017 18:08:32        0   2/11/2017 18:34:00        NaN    ...                NaN       NaN       NaN         NaN        NaN\n",
       "2  133  2/11/2017 18:15:12        0  28/11/2017 09:43:09        NaN    ...                NaN       NaN       NaN         NaN        NaN\n",
       "3  134  2/11/2017 22:10:20        0  28/11/2017 09:40:44        NaN    ...                NaN       NaN       NaN         NaN        NaN\n",
       "4  135  2/11/2017 22:53:54        0  15/11/2017 10:38:45        NaN    ...                NaN       NaN       NaN         NaN        NaN\n",
       "\n",
       "[5 rows x 209 columns]"
      ]
     },
     "execution_count": 3,
     "metadata": {},
     "output_type": "execute_result"
    }
   ],
   "source": [
    "# 首5行数据\n",
    "df_alldata.head()"
   ]
  },
  {
   "cell_type": "code",
   "execution_count": 4,
   "metadata": {},
   "outputs": [
    {
     "data": {
      "text/html": [
       "<div>\n",
       "<style scoped>\n",
       "    .dataframe tbody tr th:only-of-type {\n",
       "        vertical-align: middle;\n",
       "    }\n",
       "\n",
       "    .dataframe tbody tr th {\n",
       "        vertical-align: top;\n",
       "    }\n",
       "\n",
       "    .dataframe thead th {\n",
       "        text-align: right;\n",
       "    }\n",
       "</style>\n",
       "<table border=\"1\" class=\"dataframe\">\n",
       "  <thead>\n",
       "    <tr style=\"text-align: right;\">\n",
       "      <th></th>\n",
       "      <th>id</th>\n",
       "      <th>create_time</th>\n",
       "      <th>deleted</th>\n",
       "      <th>update_time</th>\n",
       "      <th>check_time</th>\n",
       "      <th>...</th>\n",
       "      <th>order_number.4</th>\n",
       "      <th>max_lease</th>\n",
       "      <th>min_lease</th>\n",
       "      <th>renew_rents</th>\n",
       "      <th>rent_group</th>\n",
       "    </tr>\n",
       "  </thead>\n",
       "  <tbody>\n",
       "    <tr>\n",
       "      <th>86983</th>\n",
       "      <td>77217</td>\n",
       "      <td>21/8/2018 15:55:05</td>\n",
       "      <td>0</td>\n",
       "      <td>21/8/2018 15:55:33</td>\n",
       "      <td>NaN</td>\n",
       "      <td>...</td>\n",
       "      <td>2.018082e+18</td>\n",
       "      <td>0.0</td>\n",
       "      <td>0.0</td>\n",
       "      <td>{\"360\":1360,\"180\":1390}</td>\n",
       "      <td>NaN</td>\n",
       "    </tr>\n",
       "    <tr>\n",
       "      <th>86984</th>\n",
       "      <td>77219</td>\n",
       "      <td>21/8/2018 15:57:53</td>\n",
       "      <td>0</td>\n",
       "      <td>21/8/2018 15:58:25</td>\n",
       "      <td>NaN</td>\n",
       "      <td>...</td>\n",
       "      <td>2.018082e+18</td>\n",
       "      <td>0.0</td>\n",
       "      <td>0.0</td>\n",
       "      <td>{\"360\":1360,\"180\":1390}</td>\n",
       "      <td>NaN</td>\n",
       "    </tr>\n",
       "    <tr>\n",
       "      <th>86985</th>\n",
       "      <td>77220</td>\n",
       "      <td>21/8/2018 15:58:19</td>\n",
       "      <td>0</td>\n",
       "      <td>21/8/2018 15:58:20</td>\n",
       "      <td>NaN</td>\n",
       "      <td>...</td>\n",
       "      <td>2.018082e+18</td>\n",
       "      <td>0.0</td>\n",
       "      <td>0.0</td>\n",
       "      <td>{\"360\":1520}</td>\n",
       "      <td>NaN</td>\n",
       "    </tr>\n",
       "    <tr>\n",
       "      <th>86986</th>\n",
       "      <td>77220</td>\n",
       "      <td>21/8/2018 15:58:19</td>\n",
       "      <td>0</td>\n",
       "      <td>21/8/2018 15:58:20</td>\n",
       "      <td>NaN</td>\n",
       "      <td>...</td>\n",
       "      <td>2.018082e+18</td>\n",
       "      <td>0.0</td>\n",
       "      <td>0.0</td>\n",
       "      <td>{\"360\":1520}</td>\n",
       "      <td>NaN</td>\n",
       "    </tr>\n",
       "    <tr>\n",
       "      <th>86987</th>\n",
       "      <td>77221</td>\n",
       "      <td>21/8/2018 16:00:31</td>\n",
       "      <td>0</td>\n",
       "      <td>21/8/2018 16:01:00</td>\n",
       "      <td>NaN</td>\n",
       "      <td>...</td>\n",
       "      <td>2.018082e+18</td>\n",
       "      <td>0.0</td>\n",
       "      <td>0.0</td>\n",
       "      <td>{\"180\":1190,\"60\":1590,\"30\":2090,\"360\":990,\"90\"...</td>\n",
       "      <td>NaN</td>\n",
       "    </tr>\n",
       "  </tbody>\n",
       "</table>\n",
       "<p>5 rows × 209 columns</p>\n",
       "</div>"
      ],
      "text/plain": [
       "          id         create_time  deleted         update_time check_time    ...     order_number.4 max_lease min_lease                                        renew_rents rent_group\n",
       "86983  77217  21/8/2018 15:55:05        0  21/8/2018 15:55:33        NaN    ...       2.018082e+18       0.0       0.0                            {\"360\":1360,\"180\":1390}        NaN\n",
       "86984  77219  21/8/2018 15:57:53        0  21/8/2018 15:58:25        NaN    ...       2.018082e+18       0.0       0.0                            {\"360\":1360,\"180\":1390}        NaN\n",
       "86985  77220  21/8/2018 15:58:19        0  21/8/2018 15:58:20        NaN    ...       2.018082e+18       0.0       0.0                                       {\"360\":1520}        NaN\n",
       "86986  77220  21/8/2018 15:58:19        0  21/8/2018 15:58:20        NaN    ...       2.018082e+18       0.0       0.0                                       {\"360\":1520}        NaN\n",
       "86987  77221  21/8/2018 16:00:31        0  21/8/2018 16:01:00        NaN    ...       2.018082e+18       0.0       0.0  {\"180\":1190,\"60\":1590,\"30\":2090,\"360\":990,\"90\"...        NaN\n",
       "\n",
       "[5 rows x 209 columns]"
      ]
     },
     "execution_count": 4,
     "metadata": {},
     "output_type": "execute_result"
    }
   ],
   "source": [
    "# 最后5行数据\n",
    "df_alldata.tail()"
   ]
  },
  {
   "cell_type": "code",
   "execution_count": 5,
   "metadata": {
    "_cell_guid": "ce473d29-8d19-76b8-24a4-48c217286e42",
    "_uuid": "ef106f38a00e162a80c523778af6dcc778ccc1c2"
   },
   "outputs": [
    {
     "data": {
      "text/plain": [
       "array(['id', 'create_time', 'deleted', 'update_time', 'check_time',\n",
       "       'check_author', 'credit_check_time', 'lease_start_time',\n",
       "       'lease_expire_time', 'finished_time', 'canceled_time',\n",
       "       'received_time', 'delivery_time', 'last_pay_time', 'buyout_time',\n",
       "       'order_number', 'merchant_id', 'merchant_name', 'name', 'user_id',\n",
       "       'user_name', 'goods_name', 'goods_sn', 'state', 'cost', 'discount',\n",
       "       'pay', 'installment', 'next_pay_time', 'rem_pay_num',\n",
       "       'ismt_agmt_url', 'ismt_agmt_no', 'pay_num', 'added_service',\n",
       "       'first_pay', 'first_pay_time', 'full', 'billing_method',\n",
       "       'liquidated_damages_percent', 'buffer_days', 'channel', 'pay_type',\n",
       "       'user_receive_time', 'reminded', 'bounds_example_id',\n",
       "       'bounds_example_name', 'bounds_example_no', 'goods_type',\n",
       "       'need_zmxy_feedback', 'cash_pledge', 'version', 'cancel_reason',\n",
       "       'clearance_time', 'freight', 'paid_amount', 'credit_check_author',\n",
       "       'reminder_time', 'lease_term', 'commented', 'daily_rent',\n",
       "       'accident_insurance', 'logistics_info_id', 'description', 'type',\n",
       "       'freeze_money', 'sign_state', 'best_sign_channel', 'doc_id',\n",
       "       'handheld_photo', 'ip', 'pid', 'releted', 'service_enable',\n",
       "       'return_enable', 'exchange_enable', 'relet_appliable',\n",
       "       'order_type', 'delivery_way', 'buyouted', 'buyout_appliable',\n",
       "       'revert_code', 'goods_get_code', 'mac_address', 'imei',\n",
       "       'device_type', 'joke', 'hand_id_card', 'id_card_pros',\n",
       "       'id_card_cons', 'stages', 'source', 'distance',\n",
       "       'disposable_payment_discount', 'disposable_payment_enabled',\n",
       "       'merchant_remark', 'custom_lease', 'activity_id', 'lease_num',\n",
       "       'credit_check_result', 'user_remark', 'original_daily_rent',\n",
       "       'merchant_store_id', 'deposit', 'hit_merchant_white_list',\n",
       "       'pick_up_merchant_store_id', 'receive_merchant_store_id',\n",
       "       'api_version', 'fingerprint', 'finished_state', 'id.1',\n",
       "       'create_time.1', 'update_time.1', 'version.1', 'user_id.1',\n",
       "       'order_id', 'zmxy_score', 'card_id', 'card_name', 'contact',\n",
       "       'phone', 'country', 'provice', 'city', 'regoin', 'receive_address',\n",
       "       'remark', 'freight.1', 'company', 'live_address', 'mode',\n",
       "       'express_no', 'operate_time', 'operate_note', 'merchant_id.1',\n",
       "       'goods_name.1', 'user_name.1', 'state.1', 'express_channel',\n",
       "       'delivery_time.1', 'order_number.1', 'express_code',\n",
       "       'express_photo', 'joke.1', 'user_receive_time.1', 'id.2',\n",
       "       'create_time.2', 'update_time.2', 'user_id.2', 'order_id.1',\n",
       "       'emergency_contact_name', 'phone_book', 'emergency_contact_phone',\n",
       "       'emergency_contact_relation', 'id.3', 'create_time.3',\n",
       "       'update_time.3', 'deleted.1', 'version.2', 'order_id.2',\n",
       "       'order_number.2', 'type.1', 'remark.1', 'result', 'detail_json',\n",
       "       'joke.2', 'id.4', 'create_time.4', 'deleted.2', 'update_time.4',\n",
       "       'version.3', 'order_number.3', 'check_result', 'check_remark',\n",
       "       'check_time.1', 'push_result', 'push_time', 'order_id.3',\n",
       "       'canceled', 'id.5', 'create_time.5', 'deleted.3', 'update_time.5',\n",
       "       'order_id.4', 'goods_id', 'goods_name.2', 'goods_no', 'image',\n",
       "       'num', 'price', 'standard', 'standard_id', 'category',\n",
       "       'category_id', 'type_id', 'type.2', 'brand', 'brand_id', 'model',\n",
       "       'model_id', 'merchant_id.2', 'old_level', 'renew', 'renew_days',\n",
       "       'joke.3', 'order_number.4', 'max_lease', 'min_lease',\n",
       "       'renew_rents', 'rent_group'], dtype=object)"
      ]
     },
     "execution_count": 5,
     "metadata": {},
     "output_type": "execute_result"
    }
   ],
   "source": [
    "# 所有特征值\n",
    "df_alldata.columns.values"
   ]
  },
  {
   "cell_type": "code",
   "execution_count": 6,
   "metadata": {},
   "outputs": [
    {
     "name": "stdout",
     "output_type": "stream",
     "text": [
      "筛选出所有可能有用特征后的数据量: (86988, 46)\n"
     ]
    }
   ],
   "source": [
    "# 我们并不需要所有的特征值，筛选出一些可能有用的特质值\n",
    "df = df_alldata.dropna(axis=1, how='all')\n",
    "\n",
    "features = ['create_time', 'goods_name', 'cost', 'discount', 'pay_num', 'added_service', 'first_pay', 'channel',\n",
    "            'pay_type', 'merchant_id', 'goods_type', 'lease_term', 'daily_rent', 'accident_insurance', 'type',\n",
    "            'freeze_money', 'ip', 'releted', 'order_type', 'source', 'disposable_payment_discount',\n",
    "            'disposable_payment_enabled', 'lease_num', 'original_daily_rent', 'deposit', 'zmxy_score', 'card_id',\n",
    "            'contact', 'phone', 'provice', 'city', 'regoin', 'receive_address', 'emergency_contact_name', 'phone_book',\n",
    "            'emergency_contact_phone', 'emergency_contact_relation', 'type.1', 'detail_json', 'price', 'old_level']\n",
    "result = ['state', 'cancel_reason', 'check_result', 'check_remark', 'result']\n",
    "df = df[result + features]\n",
    "print(\"筛选出所有可能有用特征后的数据量: {}\".format(df.shape))\n"
   ]
  },
  {
   "cell_type": "code",
   "execution_count": 7,
   "metadata": {},
   "outputs": [
    {
     "name": "stdout",
     "output_type": "stream",
     "text": [
      "数据起止时间段：2/11/2017 17:44:55 -- 21/8/2018 16:00:31\n"
     ]
    }
   ],
   "source": [
    "# 数据的起止时间段\n",
    "print(\"数据起止时间段：{} -- {}\".format(df['create_time'].iloc[0], df['create_time'].iloc[-1]))"
   ]
  },
  {
   "cell_type": "code",
   "execution_count": 8,
   "metadata": {},
   "outputs": [
    {
     "data": {
      "text/plain": [
       "FAILURE    66970\n",
       "INIT       11075\n",
       "SUCCESS     6464\n",
       "Name: check_result, dtype: int64"
      ]
     },
     "execution_count": 8,
     "metadata": {},
     "output_type": "execute_result"
    }
   ],
   "source": [
    "# 订单审核结果分类\n",
    "df['check_result'].value_counts()"
   ]
  },
  {
   "cell_type": "code",
   "execution_count": 9,
   "metadata": {},
   "outputs": [
    {
     "data": {
      "text/plain": [
       "artificial_credit_check_unpass_canceled    50144\n",
       "user_canceled                              19433\n",
       "order_payment_overtime_canceled             4926\n",
       "system_credit_check_unpass_canceled         4597\n",
       "lease_finished                              3289\n",
       "running                                     2964\n",
       "buyout_finished                              318\n",
       "running_overdue                              212\n",
       "merchant_not_yet_send_canceled               210\n",
       "pending_jimi_credit_check                    192\n",
       "pending_receive_goods                        163\n",
       "pending_pay                                  132\n",
       "pending_send_goods                           126\n",
       "returning                                    100\n",
       "relet_finished                                81\n",
       "return_overdue                                31\n",
       "pending_relet_check                           18\n",
       "pending_user_compensate                       10\n",
       "return_goods                                  10\n",
       "pending_return                                 8\n",
       "pending_relet_start                            6\n",
       "pending_artificial_credit_check                5\n",
       "express_rejection_canceled                     4\n",
       "repairing                                      2\n",
       "pending_relet_pay                              2\n",
       "returned_received                              2\n",
       "merchant_relet_check_unpass_canceled           1\n",
       "pending_compensate_check                       1\n",
       "exchange_goods                                 1\n",
       "Name: state, dtype: int64"
      ]
     },
     "execution_count": 9,
     "metadata": {},
     "output_type": "execute_result"
    }
   ],
   "source": [
    "# 订单状态\n",
    "df['state'].value_counts()"
   ]
  },
  {
   "cell_type": "code",
   "execution_count": 10,
   "metadata": {},
   "outputs": [
    {
     "name": "stdout",
     "output_type": "stream",
     "text": [
      "<class 'pandas.core.frame.DataFrame'>\n",
      "RangeIndex: 86988 entries, 0 to 86987\n",
      "Data columns (total 46 columns):\n",
      "state                          86988 non-null object\n",
      "cancel_reason                  81101 non-null object\n",
      "check_result                   84509 non-null object\n",
      "check_remark                   69375 non-null object\n",
      "result                         42081 non-null object\n",
      "create_time                    86988 non-null object\n",
      "goods_name                     86988 non-null object\n",
      "cost                           86988 non-null int64\n",
      "discount                       5090 non-null float64\n",
      "pay_num                        86988 non-null int64\n",
      "added_service                  60601 non-null object\n",
      "first_pay                      8613 non-null float64\n",
      "channel                        74939 non-null object\n",
      "pay_type                       8613 non-null object\n",
      "merchant_id                    86988 non-null int64\n",
      "goods_type                     86988 non-null object\n",
      "lease_term                     86988 non-null int64\n",
      "daily_rent                     86988 non-null int64\n",
      "accident_insurance             86988 non-null int64\n",
      "type                           86988 non-null object\n",
      "freeze_money                   86988 non-null int64\n",
      "ip                             82326 non-null object\n",
      "releted                        86988 non-null int64\n",
      "order_type                     86988 non-null object\n",
      "source                         86988 non-null object\n",
      "disposable_payment_discount    86988 non-null int64\n",
      "disposable_payment_enabled     86988 non-null int64\n",
      "lease_num                      86988 non-null int64\n",
      "original_daily_rent            86988 non-null int64\n",
      "deposit                        86988 non-null int64\n",
      "zmxy_score                     82587 non-null object\n",
      "card_id                        86202 non-null object\n",
      "contact                        86202 non-null object\n",
      "phone                          86202 non-null object\n",
      "provice                        83823 non-null object\n",
      "city                           83823 non-null object\n",
      "regoin                         81952 non-null object\n",
      "receive_address                86202 non-null object\n",
      "emergency_contact_name         10990 non-null object\n",
      "phone_book                     11022 non-null object\n",
      "emergency_contact_phone        11022 non-null float64\n",
      "emergency_contact_relation     11022 non-null object\n",
      "type.1                         42081 non-null object\n",
      "detail_json                    42081 non-null object\n",
      "price                          86988 non-null int64\n",
      "old_level                      86988 non-null object\n",
      "dtypes: float64(3), int64(14), object(29)\n",
      "memory usage: 30.5+ MB\n"
     ]
    }
   ],
   "source": [
    "# 查看非空值个数， 数据类型\n",
    "df.info()"
   ]
  },
  {
   "cell_type": "code",
   "execution_count": 11,
   "metadata": {},
   "outputs": [
    {
     "data": {
      "text/plain": [
       "object     29\n",
       "int64      14\n",
       "float64     3\n",
       "dtype: int64"
      ]
     },
     "execution_count": 11,
     "metadata": {},
     "output_type": "execute_result"
    }
   ],
   "source": [
    "df.dtypes.value_counts()"
   ]
  },
  {
   "cell_type": "code",
   "execution_count": 12,
   "metadata": {},
   "outputs": [
    {
     "name": "stdout",
     "output_type": "stream",
     "text": [
      "Your selected dataframe has 46 columns.\n",
      "There are 24 columns that have missing values.\n"
     ]
    },
    {
     "data": {
      "text/html": [
       "<div>\n",
       "<style scoped>\n",
       "    .dataframe tbody tr th:only-of-type {\n",
       "        vertical-align: middle;\n",
       "    }\n",
       "\n",
       "    .dataframe tbody tr th {\n",
       "        vertical-align: top;\n",
       "    }\n",
       "\n",
       "    .dataframe thead th {\n",
       "        text-align: right;\n",
       "    }\n",
       "</style>\n",
       "<table border=\"1\" class=\"dataframe\">\n",
       "  <thead>\n",
       "    <tr style=\"text-align: right;\">\n",
       "      <th></th>\n",
       "      <th>Missing Values</th>\n",
       "      <th>% of Total Values</th>\n",
       "    </tr>\n",
       "  </thead>\n",
       "  <tbody>\n",
       "    <tr>\n",
       "      <th>discount</th>\n",
       "      <td>81898</td>\n",
       "      <td>94.1</td>\n",
       "    </tr>\n",
       "    <tr>\n",
       "      <th>first_pay</th>\n",
       "      <td>78375</td>\n",
       "      <td>90.1</td>\n",
       "    </tr>\n",
       "    <tr>\n",
       "      <th>pay_type</th>\n",
       "      <td>78375</td>\n",
       "      <td>90.1</td>\n",
       "    </tr>\n",
       "    <tr>\n",
       "      <th>emergency_contact_name</th>\n",
       "      <td>75998</td>\n",
       "      <td>87.4</td>\n",
       "    </tr>\n",
       "    <tr>\n",
       "      <th>emergency_contact_relation</th>\n",
       "      <td>75966</td>\n",
       "      <td>87.3</td>\n",
       "    </tr>\n",
       "    <tr>\n",
       "      <th>emergency_contact_phone</th>\n",
       "      <td>75966</td>\n",
       "      <td>87.3</td>\n",
       "    </tr>\n",
       "    <tr>\n",
       "      <th>phone_book</th>\n",
       "      <td>75966</td>\n",
       "      <td>87.3</td>\n",
       "    </tr>\n",
       "    <tr>\n",
       "      <th>detail_json</th>\n",
       "      <td>44907</td>\n",
       "      <td>51.6</td>\n",
       "    </tr>\n",
       "    <tr>\n",
       "      <th>result</th>\n",
       "      <td>44907</td>\n",
       "      <td>51.6</td>\n",
       "    </tr>\n",
       "    <tr>\n",
       "      <th>type.1</th>\n",
       "      <td>44907</td>\n",
       "      <td>51.6</td>\n",
       "    </tr>\n",
       "    <tr>\n",
       "      <th>added_service</th>\n",
       "      <td>26387</td>\n",
       "      <td>30.3</td>\n",
       "    </tr>\n",
       "    <tr>\n",
       "      <th>check_remark</th>\n",
       "      <td>17613</td>\n",
       "      <td>20.2</td>\n",
       "    </tr>\n",
       "    <tr>\n",
       "      <th>channel</th>\n",
       "      <td>12049</td>\n",
       "      <td>13.9</td>\n",
       "    </tr>\n",
       "    <tr>\n",
       "      <th>cancel_reason</th>\n",
       "      <td>5887</td>\n",
       "      <td>6.8</td>\n",
       "    </tr>\n",
       "    <tr>\n",
       "      <th>regoin</th>\n",
       "      <td>5036</td>\n",
       "      <td>5.8</td>\n",
       "    </tr>\n",
       "    <tr>\n",
       "      <th>ip</th>\n",
       "      <td>4662</td>\n",
       "      <td>5.4</td>\n",
       "    </tr>\n",
       "    <tr>\n",
       "      <th>zmxy_score</th>\n",
       "      <td>4401</td>\n",
       "      <td>5.1</td>\n",
       "    </tr>\n",
       "    <tr>\n",
       "      <th>provice</th>\n",
       "      <td>3165</td>\n",
       "      <td>3.6</td>\n",
       "    </tr>\n",
       "    <tr>\n",
       "      <th>city</th>\n",
       "      <td>3165</td>\n",
       "      <td>3.6</td>\n",
       "    </tr>\n",
       "    <tr>\n",
       "      <th>check_result</th>\n",
       "      <td>2479</td>\n",
       "      <td>2.8</td>\n",
       "    </tr>\n",
       "    <tr>\n",
       "      <th>receive_address</th>\n",
       "      <td>786</td>\n",
       "      <td>0.9</td>\n",
       "    </tr>\n",
       "    <tr>\n",
       "      <th>phone</th>\n",
       "      <td>786</td>\n",
       "      <td>0.9</td>\n",
       "    </tr>\n",
       "    <tr>\n",
       "      <th>card_id</th>\n",
       "      <td>786</td>\n",
       "      <td>0.9</td>\n",
       "    </tr>\n",
       "    <tr>\n",
       "      <th>contact</th>\n",
       "      <td>786</td>\n",
       "      <td>0.9</td>\n",
       "    </tr>\n",
       "  </tbody>\n",
       "</table>\n",
       "</div>"
      ],
      "text/plain": [
       "                            Missing Values  % of Total Values\n",
       "discount                             81898               94.1\n",
       "first_pay                            78375               90.1\n",
       "pay_type                             78375               90.1\n",
       "emergency_contact_name               75998               87.4\n",
       "emergency_contact_relation           75966               87.3\n",
       "emergency_contact_phone              75966               87.3\n",
       "phone_book                           75966               87.3\n",
       "detail_json                          44907               51.6\n",
       "result                               44907               51.6\n",
       "type.1                               44907               51.6\n",
       "added_service                        26387               30.3\n",
       "check_remark                         17613               20.2\n",
       "channel                              12049               13.9\n",
       "cancel_reason                         5887                6.8\n",
       "regoin                                5036                5.8\n",
       "ip                                    4662                5.4\n",
       "zmxy_score                            4401                5.1\n",
       "provice                               3165                3.6\n",
       "city                                  3165                3.6\n",
       "check_result                          2479                2.8\n",
       "receive_address                        786                0.9\n",
       "phone                                  786                0.9\n",
       "card_id                                786                0.9\n",
       "contact                                786                0.9"
      ]
     },
     "execution_count": 12,
     "metadata": {},
     "output_type": "execute_result"
    }
   ],
   "source": [
    "# 缺失值比率\n",
    "missing_values_table(df)"
   ]
  },
  {
   "cell_type": "code",
   "execution_count": 13,
   "metadata": {},
   "outputs": [
    {
     "data": {
      "text/plain": [
       "state                            29\n",
       "cancel_reason                  1817\n",
       "check_result                      3\n",
       "check_remark                   1461\n",
       "result                            6\n",
       "create_time                   71679\n",
       "goods_name                     1146\n",
       "added_service                    27\n",
       "channel                          20\n",
       "pay_type                          5\n",
       "goods_type                       76\n",
       "type                              4\n",
       "ip                            52977\n",
       "order_type                        2\n",
       "source                            7\n",
       "zmxy_score                     2010\n",
       "card_id                       43051\n",
       "contact                       37105\n",
       "phone                         43696\n",
       "provice                          61\n",
       "city                            572\n",
       "regoin                         2458\n",
       "receive_address               45283\n",
       "emergency_contact_name         3156\n",
       "phone_book                     4437\n",
       "emergency_contact_relation        8\n",
       "type.1                            2\n",
       "detail_json                   42081\n",
       "old_level                         7\n",
       "dtype: int64"
      ]
     },
     "execution_count": 13,
     "metadata": {},
     "output_type": "execute_result"
    }
   ],
   "source": [
    "# 特征中不同值得个数\n",
    "df.select_dtypes('object').apply(pd.Series.nunique, axis=0)"
   ]
  },
  {
   "cell_type": "code",
   "execution_count": 14,
   "metadata": {
    "scrolled": true
   },
   "outputs": [
    {
     "data": {
      "text/html": [
       "<div>\n",
       "<style scoped>\n",
       "    .dataframe tbody tr th:only-of-type {\n",
       "        vertical-align: middle;\n",
       "    }\n",
       "\n",
       "    .dataframe tbody tr th {\n",
       "        vertical-align: top;\n",
       "    }\n",
       "\n",
       "    .dataframe thead th {\n",
       "        text-align: right;\n",
       "    }\n",
       "</style>\n",
       "<table border=\"1\" class=\"dataframe\">\n",
       "  <thead>\n",
       "    <tr style=\"text-align: right;\">\n",
       "      <th></th>\n",
       "      <th>cost</th>\n",
       "      <th>discount</th>\n",
       "      <th>pay_num</th>\n",
       "      <th>first_pay</th>\n",
       "      <th>merchant_id</th>\n",
       "      <th>...</th>\n",
       "      <th>lease_num</th>\n",
       "      <th>original_daily_rent</th>\n",
       "      <th>deposit</th>\n",
       "      <th>emergency_contact_phone</th>\n",
       "      <th>price</th>\n",
       "    </tr>\n",
       "  </thead>\n",
       "  <tbody>\n",
       "    <tr>\n",
       "      <th>count</th>\n",
       "      <td>8.698800e+04</td>\n",
       "      <td>5090.000000</td>\n",
       "      <td>86988.000000</td>\n",
       "      <td>8613.000000</td>\n",
       "      <td>86988.000000</td>\n",
       "      <td>...</td>\n",
       "      <td>86988.000000</td>\n",
       "      <td>86988.000000</td>\n",
       "      <td>8.698800e+04</td>\n",
       "      <td>1.102200e+04</td>\n",
       "      <td>8.698800e+04</td>\n",
       "    </tr>\n",
       "    <tr>\n",
       "      <th>mean</th>\n",
       "      <td>3.485882e+05</td>\n",
       "      <td>6589.563654</td>\n",
       "      <td>9.894813</td>\n",
       "      <td>28841.315569</td>\n",
       "      <td>102.485538</td>\n",
       "      <td>...</td>\n",
       "      <td>1.005265</td>\n",
       "      <td>472.213800</td>\n",
       "      <td>1.796072e+05</td>\n",
       "      <td>1.584046e+10</td>\n",
       "      <td>1.021291e+06</td>\n",
       "    </tr>\n",
       "    <tr>\n",
       "      <th>std</th>\n",
       "      <td>2.826644e+05</td>\n",
       "      <td>9810.737018</td>\n",
       "      <td>4.157293</td>\n",
       "      <td>50198.934737</td>\n",
       "      <td>120.425726</td>\n",
       "      <td>...</td>\n",
       "      <td>0.262799</td>\n",
       "      <td>919.463761</td>\n",
       "      <td>1.720771e+07</td>\n",
       "      <td>2.064116e+09</td>\n",
       "      <td>2.467316e+07</td>\n",
       "    </tr>\n",
       "    <tr>\n",
       "      <th>min</th>\n",
       "      <td>1.000000e+00</td>\n",
       "      <td>-525300.000000</td>\n",
       "      <td>1.000000</td>\n",
       "      <td>0.000000</td>\n",
       "      <td>22.000000</td>\n",
       "      <td>...</td>\n",
       "      <td>1.000000</td>\n",
       "      <td>0.000000</td>\n",
       "      <td>0.000000e+00</td>\n",
       "      <td>1.300108e+10</td>\n",
       "      <td>0.000000e+00</td>\n",
       "    </tr>\n",
       "    <tr>\n",
       "      <th>25%</th>\n",
       "      <td>1.800000e+05</td>\n",
       "      <td>2000.000000</td>\n",
       "      <td>12.000000</td>\n",
       "      <td>7000.000000</td>\n",
       "      <td>22.000000</td>\n",
       "      <td>...</td>\n",
       "      <td>1.000000</td>\n",
       "      <td>0.000000</td>\n",
       "      <td>0.000000e+00</td>\n",
       "      <td>1.377756e+10</td>\n",
       "      <td>3.500000e+05</td>\n",
       "    </tr>\n",
       "    <tr>\n",
       "      <th>50%</th>\n",
       "      <td>3.589200e+05</td>\n",
       "      <td>3000.000000</td>\n",
       "      <td>12.000000</td>\n",
       "      <td>19200.000000</td>\n",
       "      <td>46.000000</td>\n",
       "      <td>...</td>\n",
       "      <td>1.000000</td>\n",
       "      <td>0.000000</td>\n",
       "      <td>0.000000e+00</td>\n",
       "      <td>1.554557e+10</td>\n",
       "      <td>6.688000e+05</td>\n",
       "    </tr>\n",
       "    <tr>\n",
       "      <th>75%</th>\n",
       "      <td>4.788000e+05</td>\n",
       "      <td>10000.000000</td>\n",
       "      <td>12.000000</td>\n",
       "      <td>35600.000000</td>\n",
       "      <td>161.000000</td>\n",
       "      <td>...</td>\n",
       "      <td>1.000000</td>\n",
       "      <td>890.000000</td>\n",
       "      <td>0.000000e+00</td>\n",
       "      <td>1.808622e+10</td>\n",
       "      <td>8.388000e+05</td>\n",
       "    </tr>\n",
       "    <tr>\n",
       "      <th>max</th>\n",
       "      <td>7.560000e+06</td>\n",
       "      <td>78800.000000</td>\n",
       "      <td>13.000000</td>\n",
       "      <td>859000.000000</td>\n",
       "      <td>483.000000</td>\n",
       "      <td>...</td>\n",
       "      <td>20.000000</td>\n",
       "      <td>30000.000000</td>\n",
       "      <td>3.588359e+09</td>\n",
       "      <td>1.998726e+10</td>\n",
       "      <td>3.588359e+09</td>\n",
       "    </tr>\n",
       "  </tbody>\n",
       "</table>\n",
       "<p>8 rows × 17 columns</p>\n",
       "</div>"
      ],
      "text/plain": [
       "               cost       discount       pay_num      first_pay   merchant_id      ...          lease_num  original_daily_rent       deposit  emergency_contact_phone         price\n",
       "count  8.698800e+04    5090.000000  86988.000000    8613.000000  86988.000000      ...       86988.000000         86988.000000  8.698800e+04             1.102200e+04  8.698800e+04\n",
       "mean   3.485882e+05    6589.563654      9.894813   28841.315569    102.485538      ...           1.005265           472.213800  1.796072e+05             1.584046e+10  1.021291e+06\n",
       "std    2.826644e+05    9810.737018      4.157293   50198.934737    120.425726      ...           0.262799           919.463761  1.720771e+07             2.064116e+09  2.467316e+07\n",
       "min    1.000000e+00 -525300.000000      1.000000       0.000000     22.000000      ...           1.000000             0.000000  0.000000e+00             1.300108e+10  0.000000e+00\n",
       "25%    1.800000e+05    2000.000000     12.000000    7000.000000     22.000000      ...           1.000000             0.000000  0.000000e+00             1.377756e+10  3.500000e+05\n",
       "50%    3.589200e+05    3000.000000     12.000000   19200.000000     46.000000      ...           1.000000             0.000000  0.000000e+00             1.554557e+10  6.688000e+05\n",
       "75%    4.788000e+05   10000.000000     12.000000   35600.000000    161.000000      ...           1.000000           890.000000  0.000000e+00             1.808622e+10  8.388000e+05\n",
       "max    7.560000e+06   78800.000000     13.000000  859000.000000    483.000000      ...          20.000000         30000.000000  3.588359e+09             1.998726e+10  3.588359e+09\n",
       "\n",
       "[8 rows x 17 columns]"
      ]
     },
     "execution_count": 14,
     "metadata": {},
     "output_type": "execute_result"
    }
   ],
   "source": [
    "#  数值描述\n",
    "df.describe()"
   ]
  },
  {
   "cell_type": "code",
   "execution_count": 15,
   "metadata": {},
   "outputs": [
    {
     "data": {
      "text/html": [
       "<div>\n",
       "<style scoped>\n",
       "    .dataframe tbody tr th:only-of-type {\n",
       "        vertical-align: middle;\n",
       "    }\n",
       "\n",
       "    .dataframe tbody tr th {\n",
       "        vertical-align: top;\n",
       "    }\n",
       "\n",
       "    .dataframe thead th {\n",
       "        text-align: right;\n",
       "    }\n",
       "</style>\n",
       "<table border=\"1\" class=\"dataframe\">\n",
       "  <thead>\n",
       "    <tr style=\"text-align: right;\">\n",
       "      <th></th>\n",
       "      <th>state</th>\n",
       "      <th>cancel_reason</th>\n",
       "      <th>check_result</th>\n",
       "      <th>check_remark</th>\n",
       "      <th>result</th>\n",
       "      <th>...</th>\n",
       "      <th>phone_book</th>\n",
       "      <th>emergency_contact_relation</th>\n",
       "      <th>type.1</th>\n",
       "      <th>detail_json</th>\n",
       "      <th>old_level</th>\n",
       "    </tr>\n",
       "  </thead>\n",
       "  <tbody>\n",
       "    <tr>\n",
       "      <th>count</th>\n",
       "      <td>86988</td>\n",
       "      <td>81101</td>\n",
       "      <td>84509</td>\n",
       "      <td>69375</td>\n",
       "      <td>42081</td>\n",
       "      <td>...</td>\n",
       "      <td>11022</td>\n",
       "      <td>11022</td>\n",
       "      <td>42081</td>\n",
       "      <td>42081</td>\n",
       "      <td>86988</td>\n",
       "    </tr>\n",
       "    <tr>\n",
       "      <th>unique</th>\n",
       "      <td>29</td>\n",
       "      <td>1817</td>\n",
       "      <td>3</td>\n",
       "      <td>1461</td>\n",
       "      <td>6</td>\n",
       "      <td>...</td>\n",
       "      <td>4437</td>\n",
       "      <td>8</td>\n",
       "      <td>2</td>\n",
       "      <td>42081</td>\n",
       "      <td>7</td>\n",
       "    </tr>\n",
       "    <tr>\n",
       "      <th>top</th>\n",
       "      <td>artificial_credit_check_unpass_canceled</td>\n",
       "      <td>机审拒绝</td>\n",
       "      <td>FAILURE</td>\n",
       "      <td>机审拒绝</td>\n",
       "      <td>REVIEW</td>\n",
       "      <td>...</td>\n",
       "      <td>[{\"needToPinyin\":true,\"top\":false,\"baseIndexPi...</td>\n",
       "      <td>朋友</td>\n",
       "      <td>tongdun</td>\n",
       "      <td>{\"finalDecision\":\"Accept\",\"finalScore\":\"0\",\"fl...</td>\n",
       "      <td>全新</td>\n",
       "    </tr>\n",
       "    <tr>\n",
       "      <th>freq</th>\n",
       "      <td>50144</td>\n",
       "      <td>13877</td>\n",
       "      <td>66970</td>\n",
       "      <td>39318</td>\n",
       "      <td>12975</td>\n",
       "      <td>...</td>\n",
       "      <td>50</td>\n",
       "      <td>4045</td>\n",
       "      <td>26946</td>\n",
       "      <td>1</td>\n",
       "      <td>62559</td>\n",
       "    </tr>\n",
       "  </tbody>\n",
       "</table>\n",
       "<p>4 rows × 29 columns</p>\n",
       "</div>"
      ],
      "text/plain": [
       "                                          state cancel_reason check_result check_remark  result    ...                                            phone_book emergency_contact_relation   type.1                                        detail_json old_level\n",
       "count                                     86988         81101        84509        69375   42081    ...                                                 11022                      11022    42081                                              42081     86988\n",
       "unique                                       29          1817            3         1461       6    ...                                                  4437                          8        2                                              42081         7\n",
       "top     artificial_credit_check_unpass_canceled          机审拒绝      FAILURE         机审拒绝  REVIEW    ...     [{\"needToPinyin\":true,\"top\":false,\"baseIndexPi...                         朋友  tongdun  {\"finalDecision\":\"Accept\",\"finalScore\":\"0\",\"fl...        全新\n",
       "freq                                      50144         13877        66970        39318   12975    ...                                                    50                       4045    26946                                                  1     62559\n",
       "\n",
       "[4 rows x 29 columns]"
      ]
     },
     "execution_count": 15,
     "metadata": {},
     "output_type": "execute_result"
    }
   ],
   "source": [
    "# 类别描述\n",
    "df.describe(include='O')"
   ]
  },
  {
   "cell_type": "code",
   "execution_count": 16,
   "metadata": {},
   "outputs": [
    {
     "name": "stdout",
     "output_type": "stream",
     "text": [
      "初始数据量: (86988, 46)\n"
     ]
    }
   ],
   "source": [
    "# 开始清理数据\n",
    "print(\"初始数据量: {}\".format(df.shape))"
   ]
  },
  {
   "cell_type": "code",
   "execution_count": 17,
   "metadata": {},
   "outputs": [
    {
     "name": "stdout",
     "output_type": "stream",
     "text": [
      "去除无身份证号后的数据量: (86202, 46)\n"
     ]
    }
   ],
   "source": [
    "# 丢弃身份证号为空的数据\n",
    "df.dropna(subset=['card_id'], inplace=True)\n",
    "print(\"去除无身份证号后的数据量: {}\".format(df.shape))"
   ]
  },
  {
   "cell_type": "code",
   "execution_count": 18,
   "metadata": {},
   "outputs": [
    {
     "name": "stdout",
     "output_type": "stream",
     "text": [
      "去除未经机审用户后的数据量: (72969, 46)\n"
     ]
    }
   ],
   "source": [
    "# 取有审核结果的数据\n",
    "df = df[df['check_result'].str.contains('SUCCESS|FAILURE', na=False)]\n",
    "print(\"去除未经机审用户后的数据量: {}\".format(df.shape))"
   ]
  },
  {
   "cell_type": "code",
   "execution_count": 19,
   "metadata": {},
   "outputs": [
    {
     "name": "stdout",
     "output_type": "stream",
     "text": [
      "去除测试数据和内部员工后的数据量: (70909, 46)\n"
     ]
    }
   ],
   "source": [
    "# 去除测试数据和内部员工数据\n",
    "df = df[df['cancel_reason'].str.contains('测试|内部员工') != True]\n",
    "df = df[df['check_remark'].str.contains('测试|内部员工') != True]\n",
    "print(\"去除测试数据和内部员工后的数据量: {}\".format(df.shape))"
   ]
  },
  {
   "cell_type": "code",
   "execution_count": 20,
   "metadata": {},
   "outputs": [
    {
     "name": "stdout",
     "output_type": "stream",
     "text": [
      "去除用户自己取消后的数据量: (62190, 46)\n"
     ]
    }
   ],
   "source": [
    "# 去掉用户自己取消的数据   问题：即使用户取消了，仍然会有审核？？\n",
    "df = df[df['state'].str.match('user_canceled') != True]\n",
    "print(\"去除用户自己取消后的数据量: {}\".format(df.shape))"
   ]
  },
  {
   "cell_type": "code",
   "execution_count": 21,
   "metadata": {},
   "outputs": [
    {
     "name": "stdout",
     "output_type": "stream",
     "text": [
      "去除身份证重复的订单后的数据量: (33919, 46)\n"
     ]
    }
   ],
   "source": [
    "# 去除身份证重复的订单：\n",
    "df.drop_duplicates(subset=['card_id'], keep='last', inplace=True)\n",
    "print(\"去除身份证重复的订单后的数据量: {}\".format(df.shape))"
   ]
  },
  {
   "cell_type": "code",
   "execution_count": 22,
   "metadata": {},
   "outputs": [],
   "source": [
    "# 所有字符串变成大写字母\n",
    "objs_df = pd.DataFrame({\"isobj\": pd.Series(df.dtypes == 'object')})\n",
    "df[objs_df[objs_df['isobj'] == True].index.values] = df[objs_df[objs_df['isobj'] == True].index.values].applymap(lambda x: x.upper() if isinstance(x, str) else x)\n",
    "\n",
    "\n",
    "# 处理running_overdue 和 return_overdue 的逾期 的 check_result\n",
    "df.loc[df['state'].str.contains('overdue') == True, 'check_result'] = 'FAILURE'\n",
    "df['check_result'] = df['check_result'].apply(lambda x: 1 if 'SUCCESS' in x else 0)\n",
    "\n",
    "# 有phone_book的赋值成1， 空的赋值成0\n",
    "df['phone_book'][df['phone_book'].notnull()] = 1\n",
    "df['phone_book'][df['phone_book'].isnull()] = 0\n",
    "# 根据create_time 按时间段分类\n",
    "df['create_hour'] = df['create_time'].map(lambda x: int(x[-8:-6]))\n",
    "df['create_time_cat'] = df['create_hour'].map(lambda x: 0 if 0 < x < 7 else 1)\n",
    "# 同盾白骑士审核结果统一\n",
    "df['result'] = df['result'].map(lambda x: x.upper() if isinstance(x, str) else 'NODATA')\n",
    "df['result'][df['result'].str.match('ACCEPT')] = 'PASS'\n",
    "# 有emergency_contact_phone的赋值成1， 空的赋值成0\n",
    "df['emergency_contact_phone'][df['emergency_contact_phone'].notnull()] = 1\n",
    "df['emergency_contact_phone'][df['emergency_contact_phone'].isnull()] = 0\n",
    "\n",
    "\n",
    "# 处理芝麻信用分 '>600' 更改成600\n",
    "row = 0\n",
    "zmf = [0] * len(df)\n",
    "xbf = [0] * len(df)\n",
    "for x in df['zmxy_score']:\n",
    "    # print(x, row)\n",
    "    if isinstance(x, str):\n",
    "        if '/' in x:\n",
    "            score = x.split('/')\n",
    "            xbf[row] = 0 if score[0] == '' else (float(score[0]))\n",
    "            zmf[row] = 0 if score[1] == '' else (float(score[1]))\n",
    "            # print(score, row)\n",
    "        elif '>' in x:\n",
    "            zmf[row] = 600\n",
    "        else:\n",
    "            score = float(x)\n",
    "            if score <= 200:\n",
    "                xbf[row] = (score)\n",
    "            else:\n",
    "                zmf[row] = (score)\n",
    "\n",
    "    row += 1\n",
    "\n",
    "df['zmf_score'] = zmf\n",
    "df['xbf_score'] = xbf\n",
    "df['zmf_score'][df['zmf_score'] == 0] = 600\n",
    "df['xbf_score'][df['xbf_score'] == 0] = 87.6\n",
    "\n",
    "# 根据身份证号增加性别和年龄 年龄的计算需根据订单创建日期计算\n",
    "df['age'] = df['card_id'].map(lambda x: 2018 - int(x[6:10]))\n",
    "df['sex'] = df['card_id'].map(lambda x: int(x[-2]) % 2)\n",
    "\n"
   ]
  },
  {
   "cell_type": "code",
   "execution_count": 23,
   "metadata": {},
   "outputs": [],
   "source": [
    "features_cat = ['check_result', 'result', 'pay_num', 'channel', 'goods_type', 'lease_term', 'type', 'order_type',\n",
    "                'source', 'phone_book', 'emergency_contact_phone', 'old_level', 'create_hour', 'sex', ]\n",
    "features_number = ['cost', 'daily_rent', 'price', 'age', 'zmf_score', 'xbf_score', ]\n",
    "\n",
    "df = df[features_cat + features_number]\n",
    "for col in df.columns.values:\n",
    "    if df[col].dtype == 'O':\n",
    "        df[col].fillna(value='NODATA', inplace=True)\n",
    "df.fillna(value=0, inplace=True)\n",
    "\n"
   ]
  },
  {
   "cell_type": "code",
   "execution_count": 24,
   "metadata": {},
   "outputs": [
    {
     "name": "stdout",
     "output_type": "stream",
     "text": [
      "count      33919\n",
      "unique         4\n",
      "top       NODATA\n",
      "freq       20903\n",
      "Name: result, dtype: object\n",
      "-------------------------------------------\n",
      "          all  pass  reject  pass_rate\n",
      "PASS     2779   842    1937   0.302987\n",
      "NODATA  20903  1793   19110   0.085777\n",
      "REVIEW   6705   495    6210   0.073826\n",
      "REJECT   3532    16    3516   0.004530\n"
     ]
    },
    {
     "data": {
      "image/png": "[encoded data removed]",
      "text/plain": [
       "<Figure size 432x288 with 1 Axes>"
      ]
     },
     "metadata": {},
     "output_type": "display_data"
    }
   ],
   "source": [
    "feature_analyse(df, 'result')"
   ]
  },
  {
   "cell_type": "code",
   "execution_count": 25,
   "metadata": {
    "scrolled": true
   },
   "outputs": [
    {
     "name": "stdout",
     "output_type": "stream",
     "text": [
      "count            33919\n",
      "unique               6\n",
      "top       (11.8, 13.0]\n",
      "freq             28222\n",
      "Name: pay_num_band, dtype: object\n",
      "-------------------------------------------\n",
      "                all    pass  reject  pass_rate\n",
      "(0.988, 2.2]   3844  1628.0    2216   0.423517\n",
      "(3.4, 4.6]       57    11.0      46   0.192982\n",
      "(2.2, 3.4]     1093   128.0     965   0.117109\n",
      "(5.8, 7.0]      688    61.0     627   0.088663\n",
      "(11.8, 13.0]  28222  1318.0   26904   0.046701\n",
      "(9.4, 10.6]      15     NaN      15        NaN\n"
     ]
    },
    {
     "data": {
      "image/png": "[encoded data removed]",
      "text/plain": [
       "<Figure size 432x288 with 1 Axes>"
      ]
     },
     "metadata": {},
     "output_type": "display_data"
    }
   ],
   "source": [
    "feature_analyse(df, 'pay_num')"
   ]
  },
  {
   "cell_type": "code",
   "execution_count": 26,
   "metadata": {},
   "outputs": [
    {
     "name": "stdout",
     "output_type": "stream",
     "text": [
      "count     33919\n",
      "unique       20\n",
      "top       jd_h5\n",
      "freq      11630\n",
      "Name: channel, dtype: object\n",
      "-------------------------------------------\n",
      "                            all  pass   reject  pass_rate\n",
      "zero_dollar_rent-ios         14    14      NaN   1.000000\n",
      "zero_dollar_rent-android      7     7      NaN   1.000000\n",
      "jdpay-ios                     7     7      NaN   1.000000\n",
      "alipay-android              192   186      6.0   0.968750\n",
      "alipay-ios                  421   403     18.0   0.957245\n",
      "alipay-app                  138   132      6.0   0.956522\n",
      "alipay-wap                  724   685     39.0   0.946133\n",
      "alipay-null                 475   449     26.0   0.945263\n",
      "jdpay-web                   501   471     30.0   0.940120\n",
      "jdpay-android                16    15      1.0   0.937500\n",
      "wxpay-WEB                    44    39      5.0   0.886364\n",
      "wxpay-APP                   223   190     33.0   0.852018\n",
      "wxpay-WXPUB                  37    30      7.0   0.810811\n",
      "wx_h5                       153     4    149.0   0.026144\n",
      "Android                     567    13    554.0   0.022928\n",
      "h5                         4056    92   3964.0   0.022682\n",
      "alipay_h5                  6828   114   6714.0   0.016696\n",
      "NODATA                     6014   100   5914.0   0.016628\n",
      "iOS                        1872    29   1843.0   0.015491\n",
      "jd_h5                     11630   166  11464.0   0.014273\n"
     ]
    },
    {
     "data": {
      "image/png": "[encoded data removed]",
      "text/plain": [
       "<Figure size 432x288 with 1 Axes>"
      ]
     },
     "metadata": {},
     "output_type": "display_data"
    }
   ],
   "source": [
    "feature_analyse(df, 'channel')"
   ]
  },
  {
   "cell_type": "code",
   "execution_count": 27,
   "metadata": {},
   "outputs": [
    {
     "data": {
      "text/html": [
       "<div>\n",
       "<style scoped>\n",
       "    .dataframe tbody tr th:only-of-type {\n",
       "        vertical-align: middle;\n",
       "    }\n",
       "\n",
       "    .dataframe tbody tr th {\n",
       "        vertical-align: top;\n",
       "    }\n",
       "\n",
       "    .dataframe thead th {\n",
       "        text-align: right;\n",
       "    }\n",
       "</style>\n",
       "<table border=\"1\" class=\"dataframe\">\n",
       "  <thead>\n",
       "    <tr style=\"text-align: right;\">\n",
       "      <th></th>\n",
       "      <th>zmf_score_band</th>\n",
       "      <th>check_result</th>\n",
       "    </tr>\n",
       "  </thead>\n",
       "  <tbody>\n",
       "    <tr>\n",
       "      <th>3</th>\n",
       "      <td>(800, 1000]</td>\n",
       "      <td>0.724638</td>\n",
       "    </tr>\n",
       "    <tr>\n",
       "      <th>2</th>\n",
       "      <td>(700, 800]</td>\n",
       "      <td>0.335141</td>\n",
       "    </tr>\n",
       "    <tr>\n",
       "      <th>1</th>\n",
       "      <td>(600, 700]</td>\n",
       "      <td>0.073577</td>\n",
       "    </tr>\n",
       "    <tr>\n",
       "      <th>0</th>\n",
       "      <td>(0, 600]</td>\n",
       "      <td>0.069961</td>\n",
       "    </tr>\n",
       "  </tbody>\n",
       "</table>\n",
       "</div>"
      ],
      "text/plain": [
       "  zmf_score_band  check_result\n",
       "3    (800, 1000]      0.724638\n",
       "2     (700, 800]      0.335141\n",
       "1     (600, 700]      0.073577\n",
       "0       (0, 600]      0.069961"
      ]
     },
     "execution_count": 27,
     "metadata": {},
     "output_type": "execute_result"
    }
   ],
   "source": [
    "# 芝麻分分类\n",
    "bins = pd.IntervalIndex.from_tuples([(0, 600), (600, 700), (700, 800), (800, 1000)])\n",
    "df['zmf_score_band'] = pd.cut(df['zmf_score'], bins, labels=False)\n",
    "df[['zmf_score_band', 'check_result']].groupby(['zmf_score_band'], as_index=False).mean().sort_values(by='check_result', ascending=False)"
   ]
  },
  {
   "cell_type": "code",
   "execution_count": 28,
   "metadata": {},
   "outputs": [
    {
     "data": {
      "text/html": [
       "<div>\n",
       "<style scoped>\n",
       "    .dataframe tbody tr th:only-of-type {\n",
       "        vertical-align: middle;\n",
       "    }\n",
       "\n",
       "    .dataframe tbody tr th {\n",
       "        vertical-align: top;\n",
       "    }\n",
       "\n",
       "    .dataframe thead th {\n",
       "        text-align: right;\n",
       "    }\n",
       "</style>\n",
       "<table border=\"1\" class=\"dataframe\">\n",
       "  <thead>\n",
       "    <tr style=\"text-align: right;\">\n",
       "      <th></th>\n",
       "      <th>xbf_score_band</th>\n",
       "      <th>check_result</th>\n",
       "    </tr>\n",
       "  </thead>\n",
       "  <tbody>\n",
       "    <tr>\n",
       "      <th>3</th>\n",
       "      <td>(100, 200]</td>\n",
       "      <td>0.154882</td>\n",
       "    </tr>\n",
       "    <tr>\n",
       "      <th>1</th>\n",
       "      <td>(80, 90]</td>\n",
       "      <td>0.095993</td>\n",
       "    </tr>\n",
       "    <tr>\n",
       "      <th>2</th>\n",
       "      <td>(90, 100]</td>\n",
       "      <td>0.074103</td>\n",
       "    </tr>\n",
       "    <tr>\n",
       "      <th>0</th>\n",
       "      <td>(0, 80]</td>\n",
       "      <td>0.010101</td>\n",
       "    </tr>\n",
       "  </tbody>\n",
       "</table>\n",
       "</div>"
      ],
      "text/plain": [
       "  xbf_score_band  check_result\n",
       "3     (100, 200]      0.154882\n",
       "1       (80, 90]      0.095993\n",
       "2      (90, 100]      0.074103\n",
       "0        (0, 80]      0.010101"
      ]
     },
     "execution_count": 28,
     "metadata": {},
     "output_type": "execute_result"
    }
   ],
   "source": [
    "# 小白分分类\n",
    "bins = pd.IntervalIndex.from_tuples([(0, 80), (80, 90), (90, 100), (100, 200)])\n",
    "df['xbf_score_band'] = pd.cut(df['xbf_score'], bins, labels=False)\n",
    "df[['xbf_score_band', 'check_result']].groupby(['xbf_score_band'], as_index=False).mean().sort_values(by='check_result',\n",
    "                                                                                                      ascending=False)"
   ]
  },
  {
   "cell_type": "code",
   "execution_count": 29,
   "metadata": {},
   "outputs": [
    {
     "data": {
      "text/html": [
       "<div>\n",
       "<style scoped>\n",
       "    .dataframe tbody tr th:only-of-type {\n",
       "        vertical-align: middle;\n",
       "    }\n",
       "\n",
       "    .dataframe tbody tr th {\n",
       "        vertical-align: top;\n",
       "    }\n",
       "\n",
       "    .dataframe thead th {\n",
       "        text-align: right;\n",
       "    }\n",
       "</style>\n",
       "<table border=\"1\" class=\"dataframe\">\n",
       "  <thead>\n",
       "    <tr style=\"text-align: right;\">\n",
       "      <th></th>\n",
       "      <th>age_band</th>\n",
       "      <th>check_result</th>\n",
       "    </tr>\n",
       "  </thead>\n",
       "  <tbody>\n",
       "    <tr>\n",
       "      <th>3</th>\n",
       "      <td>(30, 40]</td>\n",
       "      <td>0.108397</td>\n",
       "    </tr>\n",
       "    <tr>\n",
       "      <th>2</th>\n",
       "      <td>(24, 30]</td>\n",
       "      <td>0.107992</td>\n",
       "    </tr>\n",
       "    <tr>\n",
       "      <th>1</th>\n",
       "      <td>(18, 24]</td>\n",
       "      <td>0.083947</td>\n",
       "    </tr>\n",
       "    <tr>\n",
       "      <th>4</th>\n",
       "      <td>(40, 100]</td>\n",
       "      <td>0.071549</td>\n",
       "    </tr>\n",
       "    <tr>\n",
       "      <th>0</th>\n",
       "      <td>(0, 18]</td>\n",
       "      <td>0.020524</td>\n",
       "    </tr>\n",
       "  </tbody>\n",
       "</table>\n",
       "</div>"
      ],
      "text/plain": [
       "    age_band  check_result\n",
       "3   (30, 40]      0.108397\n",
       "2   (24, 30]      0.107992\n",
       "1   (18, 24]      0.083947\n",
       "4  (40, 100]      0.071549\n",
       "0    (0, 18]      0.020524"
      ]
     },
     "execution_count": 29,
     "metadata": {},
     "output_type": "execute_result"
    }
   ],
   "source": [
    "# 年龄分类\n",
    "bins = pd.IntervalIndex.from_tuples([(0, 18), (18, 24), (24, 30), (30, 40), (40, 100)])\n",
    "df['age_band'] = pd.cut(df['age'], bins, labels=False)\n",
    "df[['age_band', 'check_result']].groupby(['age_band'], as_index=False).mean().sort_values(by='check_result',ascending=False)"
   ]
  },
  {
   "cell_type": "code",
   "execution_count": 30,
   "metadata": {},
   "outputs": [
    {
     "data": {
      "text/html": [
       "<div>\n",
       "<style scoped>\n",
       "    .dataframe tbody tr th:only-of-type {\n",
       "        vertical-align: middle;\n",
       "    }\n",
       "\n",
       "    .dataframe tbody tr th {\n",
       "        vertical-align: top;\n",
       "    }\n",
       "\n",
       "    .dataframe thead th {\n",
       "        text-align: right;\n",
       "    }\n",
       "</style>\n",
       "<table border=\"1\" class=\"dataframe\">\n",
       "  <thead>\n",
       "    <tr style=\"text-align: right;\">\n",
       "      <th></th>\n",
       "      <th>create_hour_band</th>\n",
       "      <th>check_result</th>\n",
       "    </tr>\n",
       "  </thead>\n",
       "  <tbody>\n",
       "    <tr>\n",
       "      <th>2</th>\n",
       "      <td>2</td>\n",
       "      <td>0.103056</td>\n",
       "    </tr>\n",
       "    <tr>\n",
       "      <th>3</th>\n",
       "      <td>3</td>\n",
       "      <td>0.100848</td>\n",
       "    </tr>\n",
       "    <tr>\n",
       "      <th>4</th>\n",
       "      <td>4</td>\n",
       "      <td>0.091276</td>\n",
       "    </tr>\n",
       "    <tr>\n",
       "      <th>1</th>\n",
       "      <td>1</td>\n",
       "      <td>0.089927</td>\n",
       "    </tr>\n",
       "    <tr>\n",
       "      <th>0</th>\n",
       "      <td>0</td>\n",
       "      <td>0.065322</td>\n",
       "    </tr>\n",
       "  </tbody>\n",
       "</table>\n",
       "</div>"
      ],
      "text/plain": [
       "   create_hour_band  check_result\n",
       "2                 2      0.103056\n",
       "3                 3      0.100848\n",
       "4                 4      0.091276\n",
       "1                 1      0.089927\n",
       "0                 0      0.065322"
      ]
     },
     "execution_count": 30,
     "metadata": {},
     "output_type": "execute_result"
    }
   ],
   "source": [
    "# 下单时间分类\n",
    "df['create_hour_band'] = pd.cut(df['create_hour'], 5, labels=False)\n",
    "df[['create_hour_band', 'check_result']].groupby(['create_hour_band'], as_index=False).mean().sort_values(by='check_result',ascending=False)"
   ]
  },
  {
   "cell_type": "code",
   "execution_count": 31,
   "metadata": {},
   "outputs": [
    {
     "name": "stdout",
     "output_type": "stream",
     "text": [
      "保存的数据量: (33919, 15)\n"
     ]
    }
   ],
   "source": [
    "features = ['check_result', 'result', 'pay_num', 'channel', 'goods_type', 'type', 'order_type',\n",
    "            'source', 'phone_book', 'old_level', 'sex', 'create_hour', 'age_band', 'zmf_score_band',\n",
    "            'xbf_score_band', ]\n",
    "df = df[features]\n",
    "# 类别特征全部转换成数字\n",
    "for feature in features:\n",
    "    df[feature] = LabelEncoder().fit_transform(df[feature])\n",
    "\n",
    "print(\"保存的数据量: {}\".format(df.shape))\n",
    "df.to_csv(os.path.join(PROJECT_ROOT_DIR, \"datasets\", \"mibaodata_ml.csv\"), index=False)"
   ]
  },
  {
   "cell_type": "code",
   "execution_count": 32,
   "metadata": {},
   "outputs": [
    {
     "data": {
      "text/plain": [
       "<matplotlib.axes._subplots.AxesSubplot at 0x2fd6a41fdd8>"
      ]
     },
     "execution_count": 32,
     "metadata": {},
     "output_type": "execute_result"
    },
    {
     "data": {
      "image/png": "[encoded data removed]",
      "text/plain": [
       "<Figure size 1008x864 with 2 Axes>"
      ]
     },
     "metadata": {},
     "output_type": "display_data"
    }
   ],
   "source": [
    "# 查看各特征关联度\n",
    "plt.figure(figsize=(14, 12))\n",
    "plt.title('Pearson Correlation of Features', y=1.05, size=15)\n",
    "sns.heatmap(df.astype(float).corr(), linewidths=0.1, vmax=1.0,\n",
    "            square=True, cmap=plt.cm.RdBu, linecolor='white', annot=True)"
   ]
  },
  {
   "cell_type": "markdown",
   "metadata": {},
   "source": [
    "## 机器学习训练、预测"
   ]
  },
  {
   "cell_type": "code",
   "execution_count": 33,
   "metadata": {},
   "outputs": [
    {
     "name": "stdout",
     "output_type": "stream",
     "text": [
      "ML初始数据量: (33919, 15)\n",
      "                   RandomForestClassifier\n",
      "accuracy                          0.97671\n",
      "precision                        0.898799\n",
      "recall                           0.841091\n",
      "f1                               0.868988\n",
      "runtime                          0.264022\n",
      "confusion_matrix  [[6102, 59], [99, 524]]\n"
     ]
    }
   ],
   "source": [
    "import time\n",
    "import os\n",
    "import csv\n",
    "import pandas as pd\n",
    "import numpy as np\n",
    "import matplotlib.pyplot as plt\n",
    "import matplotlib\n",
    "from matplotlib.colors import ListedColormap\n",
    "from sklearn.naive_bayes import GaussianNB\n",
    "from sklearn.preprocessing import StandardScaler, LabelEncoder\n",
    "from sklearn.linear_model import LogisticRegression, Perceptron\n",
    "from sklearn.linear_model import SGDClassifier\n",
    "from sklearn.svm import SVC, LinearSVC\n",
    "from sklearn.tree import DecisionTreeClassifier\n",
    "from sklearn.neighbors import KNeighborsClassifier\n",
    "from sklearn.ensemble import RandomForestClassifier, VotingClassifier\n",
    "from sklearn.model_selection import cross_val_predict, train_test_split\n",
    "from sklearn.model_selection import cross_val_score\n",
    "from sklearn.metrics import confusion_matrix, accuracy_score\n",
    "from sklearn.metrics import precision_recall_curve, precision_score, recall_score, f1_score\n",
    "from sklearn.metrics import roc_curve, roc_auc_score\n",
    "from sklearn.model_selection import KFold\n",
    "from xgboost import XGBClassifier\n",
    "\n",
    "# to make output display better\n",
    "pd.set_option('display.max_columns', 50)\n",
    "pd.set_option('display.max_rows', 20)\n",
    "pd.set_option('display.width', 1000)\n",
    "plt.rcParams['axes.labelsize'] = 14\n",
    "plt.rcParams['xtick.labelsize'] = 12\n",
    "plt.rcParams['ytick.labelsize'] = 12\n",
    "# read large csv file\n",
    "PROJECT_ROOT_DIR = os.getcwd()\n",
    "DATA_ID = \"mibaodata_ml.csv\"\n",
    "DATASETS_PATH = os.path.join(PROJECT_ROOT_DIR, \"datasets\", DATA_ID)\n",
    "# Get Data\n",
    "df = pd.read_csv(DATASETS_PATH, encoding='utf-8', engine='python')\n",
    "print(\"ML初始数据量: {}\".format(df.shape))\n",
    "\n",
    "x = df.drop(['check_result'], axis=1)\n",
    "y = df['check_result']\n",
    "## Splitting the dataset into the Training set and Test set\n",
    "x_train, x_test, y_train, y_test = train_test_split(x, y, test_size=0.2, random_state=0)\n",
    "\n",
    "# 保存所有模型得分\n",
    "def add_score(score_df, name, runtime, y_pred, y_test):\n",
    "    score_df[name] = [accuracy_score(y_test, y_pred), precision_score(y_test, y_pred), recall_score(y_test, y_pred),\n",
    "                      f1_score(y_test, y_pred), runtime, confusion_matrix(y_test, y_pred)]\n",
    "\n",
    "    return score_df\n",
    "\n",
    "score_df = pd.DataFrame(index=['accuracy', 'precision', 'recall', 'f1', 'runtime', 'confusion_matrix'])\n",
    "\n",
    "rnd_clf = RandomForestClassifier(random_state=0)\n",
    "starttime = time.clock()\n",
    "rnd_clf.fit(x_train, y_train)\n",
    "y_pred = rnd_clf.predict(x_test)\n",
    "add_score(score_df, rnd_clf.__class__.__name__, time.clock() - starttime, y_pred, y_test)\n",
    "\n",
    "print(score_df)"
   ]
  },
  {
   "cell_type": "markdown",
   "metadata": {},
   "source": [
    "###### 评估结果\n",
    "* accuracy： 97.6%  --- 预测正确的个数占样本总数的比率\n",
    "* precision： 89.8% --- 预测通过正确的个数占预测通过的比率\n",
    "* recall：84.1% --- 预测通过正确的个数占实际通过的比率\n",
    "* F1 score 0.868 --- precision 和 recall 的加权平均"
   ]
  },
  {
   "cell_type": "code",
   "execution_count": 34,
   "metadata": {},
   "outputs": [
    {
     "name": "stdout",
     "output_type": "stream",
     "text": [
      "RandomForestClassifier roc socore: 0.9411872498996554\n"
     ]
    },
    {
     "data": {
      "image/png": "[encoded data removed]",
      "text/plain": [
       "<Figure size 576x432 with 1 Axes>"
      ]
     },
     "metadata": {},
     "output_type": "display_data"
    }
   ],
   "source": [
    "# 使用PR曲线： 当正例较少或者关注假正例多假反例。 其他情况用ROC曲线\n",
    "plt.figure(figsize=(8, 6))\n",
    "plt.xlabel(\"Recall(FPR)\", fontsize=16)\n",
    "plt.ylabel(\"Precision(TPR)\", fontsize=16)\n",
    "plt.axis([0, 1, 0, 1])\n",
    "\n",
    "clf = rnd_clf\n",
    "y_train_pred = cross_val_predict(clf, x_train, y_train, cv=3)    \n",
    "y_probas = cross_val_predict(clf, x_train, y_train, cv=3, method=\"predict_proba\", n_jobs=-1)\n",
    "y_scores = y_probas[:, 1]  # score = proba of positive class \n",
    "precisions, recalls, thresholds = precision_recall_curve(y_train, y_scores)\n",
    "plt.plot(recalls, precisions, linewidth=1, label=\"PR\")\n",
    "fpr, tpr, thresholds = roc_curve(y_train, y_scores)\n",
    "print(\"{} roc socore: {}\".format(clf.__class__.__name__, roc_auc_score(y_train, y_scores)))\n",
    "plt.plot(fpr, tpr, linewidth=1, label=\"ROC\")\n",
    "\n",
    "plt.title(\"ROC and PR 曲线图\")\n",
    "plt.legend()\n",
    "plt.show()"
   ]
  },
  {
   "cell_type": "markdown",
   "metadata": {},
   "source": [
    "## 总结\n",
    "1. 机器学习能洞察复杂问题和大量数据，发现内在规律，帮助我们做好数据挖掘方面的工作。\n",
    "2. 很有很多的改进空间：\n",
    "        a.现有数据特征挖掘，譬如同盾和白骑士中的内容详情，IP地址、收货地址、身份证地址、居住地址中的关联，优惠券，额外服务意外险，每日租金，手机号前三位等。与客户和订单信息相关的数据都可以拿来做特征，提高机器学习预测能力。\n",
    "        b. 创造未被保存到数据库中的特征：年化利率,是否有2个手机号。\n",
    "        c. 调整机器学习参数，使之更适合做预测分类。\n",
    "        d. 使用更好的模型。XGBoosting、LightGBM和人工神经网络在训练和预测能力上做到更好。\n",
    "3. 工作计划：\n",
    "        a. 增加特征。需数据库里保存所有订单审核前的所有信息。目前折扣金额和额外服务等数据只有再审核通过后才保存，需更改下。\n",
    "        b. 参考同类型行业，借鉴他人经验，增加相关特征\n",
    "        c. 增加模型预测能力，ROC分数达到0.96以上， 预测准确度达到98.5%\n",
    "        d. 增加客户信用额度字段。如何确定客户额度方案未知。\n",
    "        e. 部署模型，模型监控。\n",
    "    "
   ]
  }
 ],
 "metadata": {
  "_change_revision": 0,
  "_is_fork": false,
  "kernelspec": {
   "display_name": "Python 3",
   "language": "python",
   "name": "python3"
  },
  "language_info": {
   "codemirror_mode": {
    "name": "ipython",
    "version": 3
   },
   "file_extension": ".py",
   "mimetype": "text/x-python",
   "name": "python",
   "nbconvert_exporter": "python",
   "pygments_lexer": "ipython3",
   "version": "3.6.5"
  }
 },
 "nbformat": 4,
 "nbformat_minor": 1
}
